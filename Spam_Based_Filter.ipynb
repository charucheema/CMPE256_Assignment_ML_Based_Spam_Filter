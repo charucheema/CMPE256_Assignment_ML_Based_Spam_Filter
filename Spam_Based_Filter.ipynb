{
  "nbformat": 4,
  "nbformat_minor": 0,
  "metadata": {
    "colab": {
      "name": "Spam_Based_Filter.ipynb",
      "provenance": [],
      "collapsed_sections": [],
      "include_colab_link": true
    },
    "kernelspec": {
      "name": "python3",
      "display_name": "Python 3"
    },
    "language_info": {
      "name": "python"
    }
  },
  "cells": [
    {
      "cell_type": "markdown",
      "metadata": {
        "id": "view-in-github",
        "colab_type": "text"
      },
      "source": [
        "<a href=\"https://colab.research.google.com/github/charucheema/CMPE256_Assignment_ML_Based_Spam_Filter/blob/main/Spam_Based_Filter.ipynb\" target=\"_parent\"><img src=\"https://colab.research.google.com/assets/colab-badge.svg\" alt=\"Open In Colab\"/></a>"
      ]
    },
    {
      "cell_type": "code",
      "metadata": {
        "id": "3GxaiBZtSV74"
      },
      "source": [
        "#import libraries\n",
        "import string\n",
        "import math\n",
        "import numpy as np\n",
        "import pandas as pd\n",
        "import spacy\n",
        "import nltk \n",
        "from sklearn.feature_extraction.text import CountVectorizer\n",
        "from nltk.corpus import stopwords\n",
        "from sklearn.feature_extraction.text import TfidfVectorizer"
      ],
      "execution_count": 1,
      "outputs": []
    },
    {
      "cell_type": "code",
      "metadata": {
        "colab": {
          "base_uri": "https://localhost:8080/"
        },
        "id": "PY4xxDauSipb",
        "outputId": "8bb615d2-9fcb-4ceb-f9b6-a01b1ccd930f"
      },
      "source": [
        "nltk.download('stopwords')"
      ],
      "execution_count": 2,
      "outputs": [
        {
          "output_type": "stream",
          "name": "stdout",
          "text": [
            "[nltk_data] Downloading package stopwords to /root/nltk_data...\n",
            "[nltk_data]   Unzipping corpora/stopwords.zip.\n"
          ]
        },
        {
          "output_type": "execute_result",
          "data": {
            "text/plain": [
              "True"
            ]
          },
          "metadata": {},
          "execution_count": 2
        }
      ]
    },
    {
      "cell_type": "code",
      "metadata": {
        "id": "5bki7UAGSkzg"
      },
      "source": [
        "nlp = spacy.load('en_core_web_sm')"
      ],
      "execution_count": 3,
      "outputs": []
    },
    {
      "cell_type": "code",
      "metadata": {
        "id": "dsdDAWxQSreh"
      },
      "source": [
        "# Test Documents \n",
        "doc1 = \"Free -Coupons for next movie. The above links will take you straight to our partner's site. For more information or to see other offers available, you can also visit the Groupon on the Working Advantage website.\"\n",
        "doc2 = \"Free -Coupons for next movie. The above links will take you straight to our partner's site. For more information or to see other offers available, you can also visit the Groupon on the Working Advantage website.\"\n",
        "doc3 = \"Our records indicate your Pension is under performing to see higher growth and up to 25% cash release reply PENSION for a free review. To opt out reply STOP\"\n",
        "doc4 = \"Enter to win $25,000 and get a Free Hotel Night! Just click here for a $1 trial membership in NetMarket, the Internet'spremier discount shopping site: Fast Company EZVenture gives you FREE business articles,PLUS, you could win YOUR CHOICE of a BMW Z3 convertible, $100,000, shares of Microsoft stock, or a home office computer. Go there and get your chances to win now. A crazy-funny-cool trivia book with a $10,000 prize? PLUS chocolate, nail polish, cats, barnyard animals, and more?\"\n",
        "doc5 = \"Dear recipient, Avangar Technologies announces the beginning of a new unprecendented global employment campaign. Due to company's exploding growth Avangar is expanding business to the European region. During last employment campaign over 1500 people worldwide took part in Avangar's business and more than half of them are currently employed by the company. And now we are offering you one more opportunity to earn extra money working with Avangar Technologies. We are looking for honest, responsible, hard-working people that can dedicate 2-4 hours of their time per day and earn extra Â£300-500 weekly. All offered positions are currently part-time and give you a chance to work mainly from home.\"\n",
        "doc6 = \"I know that's an incredible statement, but bear with me while I explain. You have already deleted mail from dozens of \\\"Get Rich Quick\\\" schemes, chain letter offers, and LOTS of other absurd scams that promise to make you rich overnight with no investment and no work. My offer isn't one of those. What I'm offering is a straightforward computer-based service that you can run full-or part-time like a regular business. This service runs auto-matically while you sleep, vacation, or work a \\\"regular\\\" job. It provides a valuable new service for businesses in your area. I'm offering a high-tech, low-maintenance, work-fromanywhere business that can bring in a nice comfortable additional income for your family. I did it for eight years. Since I started inviting others to join me, I've helped over 4000 do the same.\"\n",
        "\n",
        "#Spam Document\n",
        "querySpam = \"Free Click here visit open attachment call this number money Out extra offer available Pension Opportunity Chance Investment Pension\"\n"
      ],
      "execution_count": 4,
      "outputs": []
    },
    {
      "cell_type": "code",
      "metadata": {
        "colab": {
          "base_uri": "https://localhost:8080/"
        },
        "id": "VWXcBo_GSON7",
        "outputId": "7463a1f8-ba0a-47a0-9f33-bf32616318bf"
      },
      "source": [
        "#Create a corpus with all input documents to be evaluated and spam query doc\n",
        "'''\n",
        "Please note that spam is the last document in corpus, \n",
        "this information will be instrumental when we compute the similarity between individual documents with spam query document\n",
        "'''\n",
        "corpus = [doc1, doc2, doc3, doc4, doc5, doc6, querySpam]\n",
        "\n",
        "vectorizer = TfidfVectorizer(stop_words=\"english\")                                                                                                                                                                                                   \n",
        "tfidf = vectorizer.fit_transform(corpus)   \n",
        "similarity_matrix = tfidf * tfidf.T    \n",
        "similarity_array = similarity_matrix.toarray()    \n",
        "similarity_array = similarity_matrix.toarray()    \n",
        "\n",
        "# This similarity matrix shows similarity between all the documents in the corpus\n",
        "print(similarity_array)\n",
        "\n",
        "'''\n",
        " Lets grab the last row from the matrix to get similarity measure between\n",
        " spam document and all other documents in the corpus.\n",
        "'''\n",
        "\n",
        "print(\"Lets grab the last row from the matrix to get similarity measure between spam query document and all other documents in the corpus.\")\n",
        "print(similarity_array[:,-1])\n",
        "\n",
        "# We will skip the last documentt as that is the spam document itself\n",
        "for idx, val in enumerate(similarity_array[:,-1][:-1]):\n",
        "    if (val > 0):\n",
        "      print('Document \\\" %s \\\" contains words from spam documentt' % (corpus[idx]))\n"
      ],
      "execution_count": 6,
      "outputs": [
        {
          "output_type": "stream",
          "name": "stdout",
          "text": [
            "[[1.         1.         0.02323922 0.04465679 0.03621186 0.01830851\n",
            "  0.12547951]\n",
            " [1.         1.         0.02323922 0.04465679 0.03621186 0.01830851\n",
            "  0.12547951]\n",
            " [0.02323922 0.02323922 1.         0.03759994 0.01781925 0.\n",
            "  0.21182068]\n",
            " [0.04465679 0.04465679 0.03759994 1.         0.04096667 0.02285399\n",
            "  0.04554243]\n",
            " [0.03621186 0.03621186 0.01781925 0.04096667 1.         0.08868927\n",
            "  0.10791666]\n",
            " [0.01830851 0.01830851 0.         0.02285399 0.08868927 1.\n",
            "  0.04364964]\n",
            " [0.12547951 0.12547951 0.21182068 0.04554243 0.10791666 0.04364964\n",
            "  1.        ]]\n",
            "Lets grab the last row from the matrix to get similarity measure between spam query document and all other documents in the corpus.\n",
            "[0.12547951 0.12547951 0.21182068 0.04554243 0.10791666 0.04364964\n",
            " 1.        ]\n",
            "Document \" Free -Coupons for next movie. The above links will take you straight to our partner's site. For more information or to see other offers available, you can also visit the Groupon on the Working Advantage website. \" contains words from spam documentt\n",
            "Document \" Free -Coupons for next movie. The above links will take you straight to our partner's site. For more information or to see other offers available, you can also visit the Groupon on the Working Advantage website. \" contains words from spam documentt\n",
            "Document \" Our records indicate your Pension is under performing to see higher growth and up to 25% cash release reply PENSION for a free review. To opt out reply STOP \" contains words from spam documentt\n",
            "Document \" Enter to win $25,000 and get a Free Hotel Night! Just click here for a $1 trial membership in NetMarket, the Internet'spremier discount shopping site: Fast Company EZVenture gives you FREE business articles,PLUS, you could win YOUR CHOICE of a BMW Z3 convertible, $100,000, shares of Microsoft stock, or a home office computer. Go there and get your chances to win now. A crazy-funny-cool trivia book with a $10,000 prize? PLUS chocolate, nail polish, cats, barnyard animals, and more? \" contains words from spam documentt\n",
            "Document \" Dear recipient, Avangar Technologies announces the beginning of a new unprecendented global employment campaign. Due to company's exploding growth Avangar is expanding business to the European region. During last employment campaign over 1500 people worldwide took part in Avangar's business and more than half of them are currently employed by the company. And now we are offering you one more opportunity to earn extra money working with Avangar Technologies. We are looking for honest, responsible, hard-working people that can dedicate 2-4 hours of their time per day and earn extra Â£300-500 weekly. All offered positions are currently part-time and give you a chance to work mainly from home. \" contains words from spam documentt\n",
            "Document \" I know that's an incredible statement, but bear with me while I explain. You have already deleted mail from dozens of \"Get Rich Quick\" schemes, chain letter offers, and LOTS of other absurd scams that promise to make you rich overnight with no investment and no work. My offer isn't one of those. What I'm offering is a straightforward computer-based service that you can run full-or part-time like a regular business. This service runs auto-matically while you sleep, vacation, or work a \"regular\" job. It provides a valuable new service for businesses in your area. I'm offering a high-tech, low-maintenance, work-fromanywhere business that can bring in a nice comfortable additional income for your family. I did it for eight years. Since I started inviting others to join me, I've helped over 4000 do the same. \" contains words from spam documentt\n"
          ]
        }
      ]
    }
  ]
}